{
  "nbformat": 4,
  "nbformat_minor": 0,
  "metadata": {
    "colab": {
      "name": "Copy of python_basics_lecture_instructor_key.ipynb",
      "provenance": [],
      "include_colab_link": true
    },
    "kernelspec": {
      "name": "python3",
      "display_name": "Python 3"
    },
    "language_info": {
      "name": "python"
    }
  },
  "cells": [
    {
      "cell_type": "markdown",
      "metadata": {
        "id": "view-in-github",
        "colab_type": "text"
      },
      "source": [
        "<a href=\"https://colab.research.google.com/github/yonglin21/yonglin21/blob/main/Copy_of_python_basics_lecture_instructor_key.ipynb\" target=\"_parent\"><img src=\"https://colab.research.google.com/assets/colab-badge.svg\" alt=\"Open In Colab\"/></a>"
      ]
    },
    {
      "cell_type": "markdown",
      "source": [
        "# Welcome to the Python Programming Language\n",
        "----"
      ],
      "metadata": {
        "id": "EwaevImlAByU"
      }
    },
    {
      "cell_type": "markdown",
      "source": [
        "Python comes highly recommended as a first language for those new to programming because of its wide adoption, ease of use, and large community. According to [Wikipedia](https://en.wikipedia.org/wiki/Python_(programming_language)):\n",
        "\n",
        "> Guido van Rossum began working on Python in the late 1980s, as a successor to the ABC programming language, and first released it in 1991 as Python 0.9.0. Python 2.0 was released in 2000 and introduced new features, such as list comprehensions and a cycle-detecting garbage collection system (in addition to reference counting). Python 3.0 was released in 2008 and was a major revision of the language that is not completely backward-compatible. Python 2 was discontinued with version 2.7.18 in 2020.\n",
        "\n",
        "Python is a **general use** language, meaning that it has a wide variety of applications and use cases. Today Python is used in almost every industry for things like artificial intelligence engineering, web design, financial modelling and planning, healthcare and many more. Python can be used to create **front end** components like web applications and desktop GUIs (Graphical User Interface). Front end components are those components of an application that a user can interact with. They are likely what you're currently most familiar with. They are the buttons, search bars, and pages you click and manipulate when you use a computer application. As you will learn however there is much more to even a simple application or program than the front end. The **back end** components of an application are abstracted away from the user by the front end but consist of components like databases, APIs (application program interface), caches and more. Don't worry if you're a little confused at this point but if you would like to know more about the difference between the front and back end of an application an article is available [here](https://kenzie.snhu.edu/blog/front-end-vs-back-end-whats-the-difference/) (*hint: this might be helpful for the assignment*).\n",
        "\n"
      ],
      "metadata": {
        "id": "5IoqBZJ2AL8F"
      }
    },
    {
      "cell_type": "markdown",
      "source": [
        "### Colab and Jupyter\n",
        "\n",
        "What we're using right now is what is called a **Jupyter notebook**. Jupyter notebooks provide a web-based, interactive and shareable runtime for Python and other languages. This notebook is hosted in the cloud (read: someone else's computer) by Google Collaboratory which allows users to run Jupyter notebooks using Google's servers.\n",
        "\n",
        "Having a ready to go environment will allow us to explore and become familiar with the language without having to worry about more complex set up processes.\n",
        "\n",
        "Running the cell below will bring up a helpful video for getting started with Google Colab."
      ],
      "metadata": {
        "id": "ZfOEEHGJZCkF"
      }
    },
    {
      "cell_type": "code",
      "source": [
        "from IPython.display import HTML\n",
        "\n",
        "HTML(\"\"\"\n",
        "<iframe width=\"560\" height=\"315\" src=\"https://www.youtube.com/embed/inN8seMm7UI\"\n",
        "        title=\"YouTube video player\" frameborder=\"0\" \n",
        "        allow=\"accelerometer; autoplay; clipboard-write; encrypted-media; gyroscope; picture-in-picture\" allowfullscreen>\n",
        "</iframe>\n",
        "\"\"\")"
      ],
      "metadata": {
        "colab": {
          "base_uri": "https://localhost:8080/",
          "height": 336
        },
        "id": "NjJ0E5tOZBlk",
        "outputId": "c255c857-26e1-4a27-c29a-0bda87a06c97"
      },
      "execution_count": null,
      "outputs": [
        {
          "data": {
            "text/plain": "<IPython.core.display.HTML object>",
            "text/html": "\n<iframe width=\"560\" height=\"315\" src=\"https://www.youtube.com/embed/inN8seMm7UI\"\n        title=\"YouTube video player\" frameborder=\"0\" \n        allow=\"accelerometer; autoplay; clipboard-write; encrypted-media; gyroscope; picture-in-picture\" allowfullscreen>\n</iframe>\n"
          },
          "execution_count": 1,
          "metadata": {},
          "output_type": "execute_result"
        }
      ]
    },
    {
      "cell_type": "markdown",
      "source": [
        "### Open Source Software (OSS)\n",
        "\n",
        "In addition to Python's numerous contributions and use cases in a variety of industries it has also been at the forefront of the **open source** community. According to another behemoth in the open source community, [RedHat](https://www.redhat.com/en/topics/open-source/what-is-open-source):\n",
        "\n",
        ">Open source is a term that originally referred to open source software (OSS). Open source software is code that is designed to be publicly accessible—anyone can see, modify, and distribute the code as they see fit.\n",
        ">\n",
        ">Open source software is developed in a decentralized and collaborative way, relying on peer review and community production. Open source software is often cheaper, more flexible, and has more longevity than its proprietary peers because it is developed by communities rather than a single author or company.\n",
        ">\n",
        ">Open source has become a movement and a way of working that reaches beyond software production. The open source movement uses the values and decentralized production model of open source software to find new ways to solve problems in their communities and industries.\n",
        "\n",
        "One of the great benefits of open source collaboration is being to able to work with a diverse community of contributors with unique perspectives. As a consequence, the open source community has also been leading the charge making programming and tech a more inclusive and equitable space for all. This culture and philosophy has directly had an impact on the history of Python and is even codified into the language via the Python Software Foudation's [Code of Conduct](https://www.python.org/psf/conduct/):\n",
        "\n",
        "```\n",
        "Every member of our community has the right to have their identity respected. The Python community is dedicated to providing a positive experience for everyone, regardless of age, gender identity and expression, sexual orientation, disability, physical appearance, body size, ethnicity, nationality, race, or religion (or lack thereof), education, or socio-economic status.\n",
        "```"
      ],
      "metadata": {
        "id": "EiUdNo-ZQOtE"
      }
    },
    {
      "cell_type": "markdown",
      "source": [
        "### The Zen of Python\n",
        "\n",
        "Python is designed to be a user friendly and straightforward language first and foremost. Python has a clearly defined process for enhancements or changes to the language. These are referred to a Python Enhancement Proposals or PEPs. For a PEP to be accepted it must go through a rigorous process in addition to acquiring substantial support from the community. One of the first proposals accepted [PEP 20](https://www.python.org/dev/peps/pep-0020/) outlines the design philosophy and principles in Python. It has since been made available as an easter egg in the language itself.\n",
        "\n",
        "Let's run the first code cell below\n",
        "(<kbd>Shift</kbd> + <kbd>Enter</kbd>) to bring it up!"
      ],
      "metadata": {
        "id": "6V9PJ0NEWp_t"
      }
    },
    {
      "cell_type": "code",
      "source": [
        ""
      ],
      "metadata": {
        "id": "Nz_SGyEKYdX2"
      },
      "execution_count": null,
      "outputs": []
    },
    {
      "cell_type": "markdown",
      "source": [
        "These aphormisms encapsulate what it means to write Pythonic code, or code that favors useability, simplicity and extensibility."
      ],
      "metadata": {
        "id": "NVLMulj2YM4S"
      }
    },
    {
      "cell_type": "markdown",
      "source": [
        "### The Development Environment"
      ],
      "metadata": {
        "id": "-fksgEMBvLYL"
      }
    },
    {
      "cell_type": "markdown",
      "source": [
        "Before we can start planning the next great start up that will compete with Facebook and Google we need to familiarize ourselves with some terms and concepts. As you're no doubt already aware the computer in front of you is made up of various complex components, physical and virtual, that together provide you with a way to access the tools that have become a part of daily life for nearly everyone.\n",
        "\n",
        "**So what exactly is a development environment?**\n",
        "\n",
        "No we're not talking about the vibe of the room you're sitting in, a **development environment** is where a programmer, or developer, does their work. A development environment can be **remote**, meaning it can be accessed through the internet or other network like the one you are using now. A dev environment can also be **local**, a local environemnt exists on the PC in front of you with all the tools installed and requires no internet access.\n",
        "\n",
        "**What are the parts of a development environment?**\n",
        "\n",
        "The lowest level of the environment that most of you are familiar with is the **operating system**, or OS. The operating system is the majority of people interact with the computer. It provides graphical and user friendly interfaces for users to interact with. However the operating system is itself the combination of a number of other programs working behind the scenes **abstracted** away from the end user. Many of you are familiar with Microsoft's Windows operating system"
      ],
      "metadata": {
        "id": "NKZVly-ovcDk"
      }
    },
    {
      "cell_type": "markdown",
      "source": [
        "### Operating System\n",
        "\n",
        "At some point each of us have probably taken a peak into our desktops or seen the inside of a computer at the very least. The computer is made up of various hardware components. Memory, CPU, SSDs they work together to make a powerful machine that has undoubtedly changed the face of the planet as well as the trajectory of humanity. Your operating system is the thing in between you and those very expensive pieces of sand and precious metals. A typical OS usually breaks down something like this:\n",
        "\n",
        "#### The Kernel\n",
        "\n",
        "The kernel is what gives the operating system control over the various bits and pieces that make up our computers. For Windows users that is NT, which has been around for a while. For those on Mac and Linux there are less noticeable differences as both can trace their roots back to the days of Unix and BSD\n",
        "\n",
        "#### User Interfaces\n",
        "\n",
        "This is what we are most familiar with interacting with. There are 2 distinct user interfaces at play. The Terminal User Interface (TUI) and the Graphical User Interface (GUI) This is what allows us to issue commands to do certain things whether from the command line or by click buttons. These are front end components.\n",
        "\n",
        "#### Application Program Interfaces\n",
        "\n",
        "APIs define interactions between programs and services and how they interact with the operating system. Typically front end components will communicate with APIs that execute the functionality expected by the user.\n",
        "\n",
        "Let's take a look at what operating system Colab is using:"
      ],
      "metadata": {
        "id": "2PcrQwh_F4o_"
      }
    },
    {
      "cell_type": "code",
      "source": [
        ""
      ],
      "metadata": {
        "id": "e39y7lFaHvZD"
      },
      "execution_count": null,
      "outputs": []
    },
    {
      "cell_type": "markdown",
      "source": [
        "Without getting too much into the weeds here we can see that Colab is running the Ubuntu Linux Distribution. Historically the Python community has trended towards UNIX based system like Mac and Linux and you will find that on many Linux distributions that Python is even installed by default and used by the operating system itself."
      ],
      "metadata": {
        "id": "NuZ3yqy3H-Bj"
      }
    },
    {
      "cell_type": "markdown",
      "source": [
        "### Shell and Terminal\n",
        "\n",
        "From [Wikipedia](https://en.wikipedia.org/wiki/Shell_(computing)#cite_note-Economist-1):\n",
        "\n",
        ">In computing, a shell is a computer program which exposes an operating system's services to a human user or other programs. In general, operating system shells use either a command-line interface (CLI) or graphical user interface (GUI), depending on a computer's role and particular operation. It is named a shell because it is the outermost layer around the operating system.\n",
        "\n",
        "We can check the shell we are using in Colab by running the following cell:"
      ],
      "metadata": {
        "id": "GfsGQw5AGLCZ"
      }
    },
    {
      "cell_type": "code",
      "source": [
        "!echo $shell\n"
      ],
      "metadata": {
        "id": "ACUNfj1sHHAy",
        "colab": {
          "base_uri": "https://localhost:8080/"
        },
        "outputId": "7a70affa-e4cc-4f55-990e-7c0d44e9574a"
      },
      "execution_count": 15,
      "outputs": [
        {
          "output_type": "stream",
          "name": "stdout",
          "text": [
            "\n"
          ]
        }
      ]
    },
    {
      "cell_type": "markdown",
      "source": [
        "The Bourne Again Shell, or bash for short, is a unix shell originally written and released in 1989. It was also the default shell for MacOS systems until 2019 when it was replaced by `zsh`. Shell programs like bash and zsh, or DOS and Powershell in Windows, while not being the focus of this course are languages in their own right and capable of many of the same things as modern programming language like Python. \n",
        "\n",
        "The way we interact with the shell is via the terminal. In Colab the terminal is represented by the code cells which allow you to execute scripts and code snippets in a reproducible, controlled environment."
      ],
      "metadata": {
        "id": "84mop3fzGOgt"
      }
    },
    {
      "cell_type": "markdown",
      "source": [
        "### Interpreter\n",
        "\n",
        "There are two primary types of programming languages, compiled and interpreted. For now it is enough to understand that the Python interpreter (CPython) is what converts the code you write into something capable of being interpreted by a machine. \n",
        "\n",
        "Interpreters like the video games and apps you are already familiar with are improved over time and so different versions have different features an capabilities.\n",
        "\n",
        "We can check the Python version we're currently using with the following command:"
      ],
      "metadata": {
        "id": "AXVUoU4_OZN_"
      }
    },
    {
      "cell_type": "code",
      "source": [
        "!python ~~version"
      ],
      "metadata": {
        "id": "ncbexsBMQCWo",
        "colab": {
          "base_uri": "https://localhost:8080/"
        },
        "outputId": "a294a0bc-9604-44d3-c88d-84e6ea3a2fb4"
      },
      "execution_count": 16,
      "outputs": [
        {
          "output_type": "stream",
          "name": "stdout",
          "text": [
            "python3: can't open file '~~version': [Errno 2] No such file or directory\n"
          ]
        }
      ]
    },
    {
      "cell_type": "code",
      "source": [
        "!python ~~help"
      ],
      "metadata": {
        "colab": {
          "base_uri": "https://localhost:8080/"
        },
        "id": "JphLihcRyoS2",
        "outputId": "7b7b299a-f023-45df-a838-8d7e9536926b"
      },
      "execution_count": 50,
      "outputs": [
        {
          "output_type": "stream",
          "name": "stdout",
          "text": [
            "python3: can't open file '~~help': [Errno 2] No such file or directory\n"
          ]
        }
      ]
    },
    {
      "cell_type": "markdown",
      "source": [
        "## So let's get started with our first lines of code\n",
        "\n",
        "As is tradition we will begin with the \"Hello, World!\" exercise."
      ],
      "metadata": {
        "id": "JwllsWKnuU2W"
      }
    },
    {
      "cell_type": "code",
      "source": [
        "print (Hello World)"
      ],
      "metadata": {
        "id": "nMjHmE4su3Vk",
        "colab": {
          "base_uri": "https://localhost:8080/",
          "height": 130
        },
        "outputId": "96f3775f-562c-46e7-b2d0-a21e1a943b5e"
      },
      "execution_count": 20,
      "outputs": [
        {
          "output_type": "error",
          "ename": "SyntaxError",
          "evalue": "ignored",
          "traceback": [
            "\u001b[0;36m  File \u001b[0;32m\"<ipython-input-20-f9d093f8741d>\"\u001b[0;36m, line \u001b[0;32m1\u001b[0m\n\u001b[0;31m    print (Hello World)\u001b[0m\n\u001b[0m                     ^\u001b[0m\n\u001b[0;31mSyntaxError\u001b[0m\u001b[0;31m:\u001b[0m invalid syntax\n"
          ]
        }
      ]
    },
    {
      "cell_type": "markdown",
      "source": [
        "Well maybe it isn't so simple after all. We ran into our first error. When the code we give to the interpreter doesn't work then the interpreter will return an exception, or error, message letting us know what the issue is. Here we have a **syntax error**. Syntax is the programming equivalent of grammar, it refers to the structure of the code and the rules about that structure. In this instance the error is due to the fact that we can't just pass raw text to the interpreter without letting it know to expect text.\n",
        "\n",
        "Text data types are referred to as **strings**, as in strings of text characters. To identify text as a string in Python we need to place it in quotes. So let's try again."
      ],
      "metadata": {
        "id": "Gd3mS_aYVODY"
      }
    },
    {
      "cell_type": "code",
      "source": [
        "print ('Hello World')\n"
      ],
      "metadata": {
        "id": "rsGdFP6cu7FF",
        "colab": {
          "base_uri": "https://localhost:8080/"
        },
        "outputId": "d9a1e55b-30d9-4df5-f4a2-52db0d716e5f"
      },
      "execution_count": 22,
      "outputs": [
        {
          "output_type": "stream",
          "name": "stdout",
          "text": [
            "Hello World\n"
          ]
        }
      ]
    },
    {
      "cell_type": "markdown",
      "source": [
        "We can print numbers too. There are two major numerical data types in Python - **floats** and **integers**. Integers, or ints, are whole numbers, while floats, or floating point numbers, are like decimals."
      ],
      "metadata": {
        "id": "XLZVKSujWUtG"
      }
    },
    {
      "cell_type": "code",
      "source": [
        "print('1')"
      ],
      "metadata": {
        "id": "bwluupQ_W0jP",
        "colab": {
          "base_uri": "https://localhost:8080/"
        },
        "outputId": "450cfdc6-243b-45e5-ffee-7389b79ff233"
      },
      "execution_count": 26,
      "outputs": [
        {
          "output_type": "stream",
          "name": "stdout",
          "text": [
            "1\n"
          ]
        }
      ]
    },
    {
      "cell_type": "code",
      "source": [
        "print(1)"
      ],
      "metadata": {
        "id": "exgoSm2MWRHm",
        "colab": {
          "base_uri": "https://localhost:8080/"
        },
        "outputId": "62686145-dece-4836-c71d-135c488d2ec6"
      },
      "execution_count": 25,
      "outputs": [
        {
          "output_type": "stream",
          "name": "stdout",
          "text": [
            "1\n"
          ]
        }
      ]
    },
    {
      "cell_type": "markdown",
      "source": [
        "The lines of code we have just written form what are called statements, or **expressions**. We can think of these like sentences, [in English a complete sentence consists of a subject and a predicate](https://arts.uottawa.ca/writingcentre/en/hypergrammar/the-parts-of-the-sentence). In programming the requirement is somewhat simpler, an expression must be able to be evaluated by the compiler or interpreter.\n",
        "\n",
        "The expressions above (print statements) are evaluated at runtime but we can also have declaritve statements, such as when [variables](https://en.wikipedia.org/wiki/Variable_(computer_science)) and [constants](https://en.wikipedia.org/wiki/Constant_(computer_programming)).\n",
        "\n",
        "In Python we can declare variables quite simply using the assignment operator `=`. Let's declare our first variable in Python."
      ],
      "metadata": {
        "id": "OONcLNe3-sRw"
      }
    },
    {
      "cell_type": "code",
      "source": [
        "greeting = \"Hello World!\"\n",
        "\n",
        "my_name = \"Yong\""
      ],
      "metadata": {
        "id": "u1vEyKEKCvCx"
      },
      "execution_count": 40,
      "outputs": []
    },
    {
      "cell_type": "markdown",
      "source": [
        "Notice that there was no output produced by the above code cell because the we have only declared the variable. We can now reference the variable inside another statement."
      ],
      "metadata": {
        "id": "FEtL5cy4Cy8o"
      }
    },
    {
      "cell_type": "code",
      "source": [
        "print(greeting + \" My name is \" + my_name)"
      ],
      "metadata": {
        "colab": {
          "base_uri": "https://localhost:8080/"
        },
        "id": "K7Ceuo_hv6Sr",
        "outputId": "65f3dc4f-ea74-4fc4-e06f-b8039bbf5d67"
      },
      "execution_count": 43,
      "outputs": [
        {
          "output_type": "stream",
          "name": "stdout",
          "text": [
            "Hello World! My name is Yong\n"
          ]
        }
      ]
    },
    {
      "cell_type": "code",
      "source": [
        "print(18*3)"
      ],
      "metadata": {
        "colab": {
          "base_uri": "https://localhost:8080/"
        },
        "id": "1tcJV4sLyOfP",
        "outputId": "bfbae562-41c4-4e0c-9b0c-723a3234c2b0"
      },
      "execution_count": 48,
      "outputs": [
        {
          "output_type": "stream",
          "name": "stdout",
          "text": [
            "54\n"
          ]
        }
      ]
    },
    {
      "cell_type": "markdown",
      "source": [
        "We can even combine strings in a print statment using the `+` operator."
      ],
      "metadata": {
        "id": "8JZHAr6LM6Uo"
      }
    },
    {
      "cell_type": "code",
      "source": [
        "print('Hello World' + \"4\")"
      ],
      "metadata": {
        "id": "Un4qFVwdMPxs",
        "colab": {
          "base_uri": "https://localhost:8080/"
        },
        "outputId": "169c85ba-3456-4813-a298-072025f29009"
      },
      "execution_count": 30,
      "outputs": [
        {
          "output_type": "stream",
          "name": "stdout",
          "text": [
            "Hello World4\n"
          ]
        }
      ]
    },
    {
      "cell_type": "markdown",
      "source": [
        "Throughout the rest of this course we will dive deeper into what we have already discussed as well as many other things. Congratulations on taking the first steps towards becoming a Pythonista!"
      ],
      "metadata": {
        "id": "m9dTmDG3N3pW"
      }
    }
  ]
}