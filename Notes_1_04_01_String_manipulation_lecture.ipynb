{
  "cells": [
    {
      "cell_type": "markdown",
      "metadata": {
        "id": "view-in-github",
        "colab_type": "text"
      },
      "source": [
        "<a href=\"https://colab.research.google.com/github/yonglin21/yonglin21/blob/main/Notes_1_04_01_String_manipulation_lecture.ipynb\" target=\"_parent\"><img src=\"https://colab.research.google.com/assets/colab-badge.svg\" alt=\"Open In Colab\"/></a>"
      ]
    },
    {
      "cell_type": "markdown",
      "source": [
        "# String Manipulation\n",
        "\n",
        "[Python Docs](https://docs.python.org/3.7/search.html?q=string)\n",
        "\n",
        "We've seen some ways we can manipulate numbers in Python, now let's explore different ways we can interact with strings in Python.\n",
        "\n",
        "Text data in Python is represented using **strings** (think strings of characters), and Python provides various ways of interacting with strings. We've covered some of the basics like adding strings and basic formatting, but let's review."
      ],
      "metadata": {
        "collapsed": false,
        "id": "TTMgRw5jjg6K"
      }
    },
    {
      "cell_type": "code",
      "execution_count": 2,
      "metadata": {
        "collapsed": true,
        "id": "gL1AZJkUjg6M",
        "outputId": "649c9af8-5ff8-4bde-efc0-45126004418e",
        "colab": {
          "base_uri": "https://localhost:8080/"
        }
      },
      "outputs": [
        {
          "output_type": "execute_result",
          "data": {
            "text/plain": [
              "1"
            ]
          },
          "metadata": {},
          "execution_count": 2
        }
      ],
      "source": [
        "1 # 42 = 6j + 6"
      ]
    },
    {
      "cell_type": "code",
      "source": [
        "j = (42 - 6)/6\n",
        "\n",
        "j"
      ],
      "metadata": {
        "id": "9tQCLIbDmstd",
        "outputId": "f9b398e5-2bbe-40c4-9f30-acbb9b233760",
        "colab": {
          "base_uri": "https://localhost:8080/"
        }
      },
      "execution_count": 3,
      "outputs": [
        {
          "output_type": "execute_result",
          "data": {
            "text/plain": [
              "6.0"
            ]
          },
          "metadata": {},
          "execution_count": 3
        }
      ]
    },
    {
      "cell_type": "code",
      "source": [
        "greeting = \"Hello\"\n",
        "name = \"Yong\"\n",
        "\n",
        "f\"{greeting}, {name}\""
      ],
      "metadata": {
        "id": "quc2Dzd4m14B",
        "outputId": "e441d960-96bd-4a0e-beab-d741ead16995",
        "colab": {
          "base_uri": "https://localhost:8080/",
          "height": 35
        }
      },
      "execution_count": 5,
      "outputs": [
        {
          "output_type": "execute_result",
          "data": {
            "application/vnd.google.colaboratory.intrinsic+json": {
              "type": "string"
            },
            "text/plain": [
              "'Hello, Yong'"
            ]
          },
          "metadata": {},
          "execution_count": 5
        }
      ]
    },
    {
      "cell_type": "code",
      "source": [
        "greeting + name"
      ],
      "metadata": {
        "id": "j172cj-snD_z",
        "outputId": "84ca3781-df21-4acd-8c6d-5b9cf49ba096",
        "colab": {
          "base_uri": "https://localhost:8080/",
          "height": 35
        }
      },
      "execution_count": 6,
      "outputs": [
        {
          "output_type": "execute_result",
          "data": {
            "application/vnd.google.colaboratory.intrinsic+json": {
              "type": "string"
            },
            "text/plain": [
              "'HelloYong'"
            ]
          },
          "metadata": {},
          "execution_count": 6
        }
      ]
    },
    {
      "cell_type": "code",
      "source": [
        "greeting * 5"
      ],
      "metadata": {
        "id": "nc0AD2W9nIRz",
        "outputId": "2b02d63f-e479-4bc2-d14e-d1db83dce866",
        "colab": {
          "base_uri": "https://localhost:8080/",
          "height": 35
        }
      },
      "execution_count": 7,
      "outputs": [
        {
          "output_type": "execute_result",
          "data": {
            "application/vnd.google.colaboratory.intrinsic+json": {
              "type": "string"
            },
            "text/plain": [
              "'HelloHelloHelloHelloHello'"
            ]
          },
          "metadata": {},
          "execution_count": 7
        }
      ]
    },
    {
      "cell_type": "markdown",
      "source": [
        "### Built-in Functions\n",
        "\n",
        "Python provides many functions that are built-in to the interpreter and always available. Here are a few that work with strings"
      ],
      "metadata": {
        "collapsed": false,
        "id": "0-g4QzH4jg6N"
      }
    },
    {
      "cell_type": "code",
      "execution_count": 8,
      "outputs": [
        {
          "output_type": "execute_result",
          "data": {
            "text/plain": [
              "['__add__',\n",
              " '__class__',\n",
              " '__contains__',\n",
              " '__delattr__',\n",
              " '__dir__',\n",
              " '__doc__',\n",
              " '__eq__',\n",
              " '__format__',\n",
              " '__ge__',\n",
              " '__getattribute__',\n",
              " '__getitem__',\n",
              " '__getnewargs__',\n",
              " '__gt__',\n",
              " '__hash__',\n",
              " '__init__',\n",
              " '__init_subclass__',\n",
              " '__iter__',\n",
              " '__le__',\n",
              " '__len__',\n",
              " '__lt__',\n",
              " '__mod__',\n",
              " '__mul__',\n",
              " '__ne__',\n",
              " '__new__',\n",
              " '__reduce__',\n",
              " '__reduce_ex__',\n",
              " '__repr__',\n",
              " '__rmod__',\n",
              " '__rmul__',\n",
              " '__setattr__',\n",
              " '__sizeof__',\n",
              " '__str__',\n",
              " '__subclasshook__',\n",
              " 'capitalize',\n",
              " 'casefold',\n",
              " 'center',\n",
              " 'count',\n",
              " 'encode',\n",
              " 'endswith',\n",
              " 'expandtabs',\n",
              " 'find',\n",
              " 'format',\n",
              " 'format_map',\n",
              " 'index',\n",
              " 'isalnum',\n",
              " 'isalpha',\n",
              " 'isascii',\n",
              " 'isdecimal',\n",
              " 'isdigit',\n",
              " 'isidentifier',\n",
              " 'islower',\n",
              " 'isnumeric',\n",
              " 'isprintable',\n",
              " 'isspace',\n",
              " 'istitle',\n",
              " 'isupper',\n",
              " 'join',\n",
              " 'ljust',\n",
              " 'lower',\n",
              " 'lstrip',\n",
              " 'maketrans',\n",
              " 'partition',\n",
              " 'replace',\n",
              " 'rfind',\n",
              " 'rindex',\n",
              " 'rjust',\n",
              " 'rpartition',\n",
              " 'rsplit',\n",
              " 'rstrip',\n",
              " 'split',\n",
              " 'splitlines',\n",
              " 'startswith',\n",
              " 'strip',\n",
              " 'swapcase',\n",
              " 'title',\n",
              " 'translate',\n",
              " 'upper',\n",
              " 'zfill']"
            ]
          },
          "metadata": {},
          "execution_count": 8
        }
      ],
      "source": [
        "dir(greeting)"
      ],
      "metadata": {
        "pycharm": {
          "name": "#%%\n"
        },
        "id": "kmNvuYFQjg6N",
        "outputId": "33c23457-3d5d-4148-b6f7-7524d71425bb",
        "colab": {
          "base_uri": "https://localhost:8080/"
        }
      }
    },
    {
      "cell_type": "markdown",
      "source": [
        "We can change the characters to upper or lower case."
      ],
      "metadata": {
        "collapsed": false,
        "id": "UsVDu96ajg6O"
      }
    },
    {
      "cell_type": "code",
      "execution_count": 39,
      "outputs": [],
      "source": [
        "s = (\"This is a simple sentence.\")"
      ],
      "metadata": {
        "pycharm": {
          "name": "#%%\n"
        },
        "id": "rAxy_jcrjg6O"
      }
    },
    {
      "cell_type": "code",
      "execution_count": 15,
      "outputs": [
        {
          "output_type": "execute_result",
          "data": {
            "application/vnd.google.colaboratory.intrinsic+json": {
              "type": "string"
            },
            "text/plain": [
              "'this is a simple sentence'"
            ]
          },
          "metadata": {},
          "execution_count": 15
        }
      ],
      "source": [
        "s.lower()"
      ],
      "metadata": {
        "pycharm": {
          "name": "#%%\n"
        },
        "id": "n9t5zzV-jg6O",
        "outputId": "658d36df-5beb-44af-d583-96bf5078fa31",
        "colab": {
          "base_uri": "https://localhost:8080/",
          "height": 35
        }
      }
    },
    {
      "cell_type": "code",
      "execution_count": 16,
      "outputs": [
        {
          "output_type": "execute_result",
          "data": {
            "application/vnd.google.colaboratory.intrinsic+json": {
              "type": "string"
            },
            "text/plain": [
              "'THIS IS A SIMPLE SENTENCE'"
            ]
          },
          "metadata": {},
          "execution_count": 16
        }
      ],
      "source": [
        "s.upper()"
      ],
      "metadata": {
        "pycharm": {
          "name": "#%%\n"
        },
        "id": "1bTPEtx6jg6O",
        "outputId": "56ca4751-1a34-48f2-a74b-3deaf70a93ab",
        "colab": {
          "base_uri": "https://localhost:8080/",
          "height": 35
        }
      }
    },
    {
      "cell_type": "code",
      "source": [
        "s.title()"
      ],
      "metadata": {
        "id": "dw2HGNQFoSGr",
        "outputId": "94c3aa1a-99fd-4ee3-be13-2b9cfa62f450",
        "colab": {
          "base_uri": "https://localhost:8080/",
          "height": 35
        }
      },
      "execution_count": 17,
      "outputs": [
        {
          "output_type": "execute_result",
          "data": {
            "application/vnd.google.colaboratory.intrinsic+json": {
              "type": "string"
            },
            "text/plain": [
              "'This Is A Simple Sentence'"
            ]
          },
          "metadata": {},
          "execution_count": 17
        }
      ]
    },
    {
      "cell_type": "markdown",
      "source": [
        "We can replace certain characters"
      ],
      "metadata": {
        "collapsed": false,
        "id": "WVhkKa_Ajg6P"
      }
    },
    {
      "cell_type": "code",
      "execution_count": 18,
      "outputs": [
        {
          "output_type": "execute_result",
          "data": {
            "application/vnd.google.colaboratory.intrinsic+json": {
              "type": "string"
            },
            "text/plain": [
              "'This is a simple sentence'"
            ]
          },
          "metadata": {},
          "execution_count": 18
        }
      ],
      "source": [
        "s.replace(\".\",\", example of replace\")"
      ],
      "metadata": {
        "pycharm": {
          "name": "#%%\n"
        },
        "id": "_d4vuqAbjg6P",
        "outputId": "0fd919a8-8774-42a6-8087-3b662a8cb2ab",
        "colab": {
          "base_uri": "https://localhost:8080/",
          "height": 35
        }
      }
    },
    {
      "cell_type": "code",
      "source": [
        "s.replace(\"$$\", \"anything\")"
      ],
      "metadata": {
        "id": "zQNJokwjosf7",
        "outputId": "afb8cb26-8238-43ac-c5be-43eba4fb45cb",
        "colab": {
          "base_uri": "https://localhost:8080/",
          "height": 35
        }
      },
      "execution_count": 19,
      "outputs": [
        {
          "output_type": "execute_result",
          "data": {
            "application/vnd.google.colaboratory.intrinsic+json": {
              "type": "string"
            },
            "text/plain": [
              "'This is a simple sentence'"
            ]
          },
          "metadata": {},
          "execution_count": 19
        }
      ]
    },
    {
      "cell_type": "markdown",
      "source": [
        "We can check if a string could be a numeric type"
      ],
      "metadata": {
        "collapsed": false,
        "id": "rgXF3Dd5jg6P"
      }
    },
    {
      "cell_type": "code",
      "source": [
        "\"!\".isalnum()"
      ],
      "metadata": {
        "id": "TbguyxuqorVe",
        "outputId": "88b00170-c3ea-46ef-b20a-339b98c208e9",
        "colab": {
          "base_uri": "https://localhost:8080/"
        }
      },
      "execution_count": 21,
      "outputs": [
        {
          "output_type": "execute_result",
          "data": {
            "text/plain": [
              "False"
            ]
          },
          "metadata": {},
          "execution_count": 21
        }
      ]
    },
    {
      "cell_type": "code",
      "execution_count": 23,
      "outputs": [
        {
          "output_type": "execute_result",
          "data": {
            "text/plain": [
              "True"
            ]
          },
          "metadata": {},
          "execution_count": 23
        }
      ],
      "source": [
        "\"42\".isnumeric()"
      ],
      "metadata": {
        "pycharm": {
          "name": "#%%\n"
        },
        "id": "-QPnljxvjg6Q",
        "outputId": "01e9ade2-e6b7-43fa-95b9-3005294af96d",
        "colab": {
          "base_uri": "https://localhost:8080/"
        }
      }
    },
    {
      "cell_type": "markdown",
      "source": [
        "We can check if a string contains a **sub-string**"
      ],
      "metadata": {
        "collapsed": false,
        "id": "GRgJoP_vjg6Q"
      }
    },
    {
      "cell_type": "code",
      "source": [
        "s"
      ],
      "metadata": {
        "id": "VarygeEfplcB",
        "outputId": "2c9bcf77-55f8-42d5-d588-3de9aebd26f6",
        "colab": {
          "base_uri": "https://localhost:8080/",
          "height": 35
        }
      },
      "execution_count": 24,
      "outputs": [
        {
          "output_type": "execute_result",
          "data": {
            "application/vnd.google.colaboratory.intrinsic+json": {
              "type": "string"
            },
            "text/plain": [
              "'This is a simple sentence'"
            ]
          },
          "metadata": {},
          "execution_count": 24
        }
      ]
    },
    {
      "cell_type": "code",
      "execution_count": 25,
      "outputs": [
        {
          "output_type": "execute_result",
          "data": {
            "text/plain": [
              "True"
            ]
          },
          "metadata": {},
          "execution_count": 25
        }
      ],
      "source": [
        "\"This\" in s"
      ],
      "metadata": {
        "pycharm": {
          "name": "#%%\n"
        },
        "id": "_6-LRMh_jg6Q",
        "outputId": "64932c69-4782-4f07-c6c2-998de4c3ec4b",
        "colab": {
          "base_uri": "https://localhost:8080/"
        }
      }
    },
    {
      "cell_type": "code",
      "source": [
        "\"Potato\" in s"
      ],
      "metadata": {
        "id": "k6Ms6hGKpn7W",
        "outputId": "fe8d4659-b305-4c1c-bfb5-cf418e5e3629",
        "colab": {
          "base_uri": "https://localhost:8080/"
        }
      },
      "execution_count": 26,
      "outputs": [
        {
          "output_type": "execute_result",
          "data": {
            "text/plain": [
              "False"
            ]
          },
          "metadata": {},
          "execution_count": 26
        }
      ]
    },
    {
      "cell_type": "code",
      "source": [
        "\"THIS\" in s"
      ],
      "metadata": {
        "id": "6fCZGUrNpqup",
        "outputId": "1ec83adb-63b1-4d9c-cc2e-b8da51b5fe1b",
        "colab": {
          "base_uri": "https://localhost:8080/"
        }
      },
      "execution_count": 27,
      "outputs": [
        {
          "output_type": "execute_result",
          "data": {
            "text/plain": [
              "False"
            ]
          },
          "metadata": {},
          "execution_count": 27
        }
      ]
    },
    {
      "cell_type": "code",
      "source": [
        "\"THIS\" in s.upper()"
      ],
      "metadata": {
        "id": "T7OXFlkxpxuB",
        "outputId": "8fde809e-45e7-461c-8d47-2721b842562e",
        "colab": {
          "base_uri": "https://localhost:8080/"
        }
      },
      "execution_count": 28,
      "outputs": [
        {
          "output_type": "execute_result",
          "data": {
            "text/plain": [
              "True"
            ]
          },
          "metadata": {},
          "execution_count": 28
        }
      ]
    },
    {
      "cell_type": "markdown",
      "source": [
        "We can count the number of times something appears in a string."
      ],
      "metadata": {
        "collapsed": false,
        "id": "ecPm9ZmLjg6Q"
      }
    },
    {
      "cell_type": "code",
      "source": [
        "s"
      ],
      "metadata": {
        "id": "VBVN5dg8qSZB",
        "outputId": "b2a12e5e-abde-49b3-f5da-a0b7dbb18e04",
        "colab": {
          "base_uri": "https://localhost:8080/",
          "height": 35
        }
      },
      "execution_count": 30,
      "outputs": [
        {
          "output_type": "execute_result",
          "data": {
            "application/vnd.google.colaboratory.intrinsic+json": {
              "type": "string"
            },
            "text/plain": [
              "'This is a simple sentence'"
            ]
          },
          "metadata": {},
          "execution_count": 30
        }
      ]
    },
    {
      "cell_type": "code",
      "execution_count": 29,
      "outputs": [
        {
          "output_type": "execute_result",
          "data": {
            "text/plain": [
              "4"
            ]
          },
          "metadata": {},
          "execution_count": 29
        }
      ],
      "source": [
        "s.count(\" \")"
      ],
      "metadata": {
        "pycharm": {
          "name": "#%%\n"
        },
        "id": "SIASim0zjg6R",
        "outputId": "26f0d75c-4ff9-4dbb-9569-ad33a8022433",
        "colab": {
          "base_uri": "https://localhost:8080/"
        }
      }
    },
    {
      "cell_type": "code",
      "source": [
        "s.count(\"i\")"
      ],
      "metadata": {
        "id": "92EIoAKlqTaL",
        "outputId": "068c3781-a684-4337-fed6-7005909ce7b3",
        "colab": {
          "base_uri": "https://localhost:8080/"
        }
      },
      "execution_count": 31,
      "outputs": [
        {
          "output_type": "execute_result",
          "data": {
            "text/plain": [
              "3"
            ]
          },
          "metadata": {},
          "execution_count": 31
        }
      ]
    },
    {
      "cell_type": "code",
      "source": [
        "s.count(\"$\")"
      ],
      "metadata": {
        "id": "_2_4GGz7qXsp",
        "outputId": "1b685e96-c860-4f56-b4ce-b20aecbe2c55",
        "colab": {
          "base_uri": "https://localhost:8080/"
        }
      },
      "execution_count": 32,
      "outputs": [
        {
          "output_type": "execute_result",
          "data": {
            "text/plain": [
              "0"
            ]
          },
          "metadata": {},
          "execution_count": 32
        }
      ]
    },
    {
      "cell_type": "markdown",
      "source": [
        "or check if a string starts with another substring"
      ],
      "metadata": {
        "collapsed": false,
        "id": "3q8TJ8ZPjg6R"
      }
    },
    {
      "cell_type": "code",
      "execution_count": 35,
      "outputs": [
        {
          "output_type": "execute_result",
          "data": {
            "application/vnd.google.colaboratory.intrinsic+json": {
              "type": "string"
            },
            "text/plain": [
              "'This is a simple sentence'"
            ]
          },
          "metadata": {},
          "execution_count": 35
        }
      ],
      "source": [
        "s"
      ],
      "metadata": {
        "pycharm": {
          "name": "#%%\n"
        },
        "id": "RjWuXwV9jg6R",
        "outputId": "93dfbe0f-3643-4804-93db-c6b54e6fdc21",
        "colab": {
          "base_uri": "https://localhost:8080/",
          "height": 35
        }
      }
    },
    {
      "cell_type": "code",
      "source": [
        "s.startswith (\"T\")"
      ],
      "metadata": {
        "id": "BSUsyo7wquOl",
        "outputId": "972d4e46-9828-46e9-9ab6-119c9536c679",
        "colab": {
          "base_uri": "https://localhost:8080/"
        }
      },
      "execution_count": 33,
      "outputs": [
        {
          "output_type": "execute_result",
          "data": {
            "text/plain": [
              "True"
            ]
          },
          "metadata": {},
          "execution_count": 33
        }
      ]
    },
    {
      "cell_type": "code",
      "source": [
        "s.endswith(\".\")"
      ],
      "metadata": {
        "id": "HCW83pG2qy0o",
        "outputId": "9411b1b3-27e2-4290-d7eb-fad153cd2c19",
        "colab": {
          "base_uri": "https://localhost:8080/"
        }
      },
      "execution_count": 44,
      "outputs": [
        {
          "output_type": "execute_result",
          "data": {
            "text/plain": [
              "True"
            ]
          },
          "metadata": {},
          "execution_count": 44
        }
      ]
    },
    {
      "cell_type": "code",
      "source": [
        "s.startswith(\"$\")"
      ],
      "metadata": {
        "id": "7_7fqHkKq4K5",
        "outputId": "cc322377-a9bb-4969-8fe2-06434c841ed1",
        "colab": {
          "base_uri": "https://localhost:8080/"
        }
      },
      "execution_count": 36,
      "outputs": [
        {
          "output_type": "execute_result",
          "data": {
            "text/plain": [
              "False"
            ]
          },
          "metadata": {},
          "execution_count": 36
        }
      ]
    },
    {
      "cell_type": "markdown",
      "source": [
        "With `len()`, you can check Python string length"
      ],
      "metadata": {
        "collapsed": false,
        "id": "ArXTq6r9jg6R"
      }
    },
    {
      "cell_type": "code",
      "execution_count": 43,
      "outputs": [
        {
          "output_type": "execute_result",
          "data": {
            "application/vnd.google.colaboratory.intrinsic+json": {
              "type": "string"
            },
            "text/plain": [
              "'This is a simple sentence.'"
            ]
          },
          "metadata": {},
          "execution_count": 43
        }
      ],
      "source": [
        "s"
      ],
      "metadata": {
        "pycharm": {
          "name": "#%%\n"
        },
        "id": "Xtqfj7gIjg6S",
        "outputId": "46ebbb2b-2a18-460d-f2ee-a795738d21ab",
        "colab": {
          "base_uri": "https://localhost:8080/",
          "height": 35
        }
      }
    },
    {
      "cell_type": "code",
      "source": [
        "len(s)"
      ],
      "metadata": {
        "id": "WSK_WYl_rJfr",
        "outputId": "32aeab19-dccc-4bfb-c882-020a432d2b0f",
        "colab": {
          "base_uri": "https://localhost:8080/"
        }
      },
      "execution_count": 40,
      "outputs": [
        {
          "output_type": "execute_result",
          "data": {
            "text/plain": [
              "26"
            ]
          },
          "metadata": {},
          "execution_count": 40
        }
      ]
    },
    {
      "cell_type": "code",
      "source": [
        "len(s*100)"
      ],
      "metadata": {
        "id": "a-xluFJ3rL3I",
        "outputId": "e6f00191-225f-4639-b967-74c71fd29efa",
        "colab": {
          "base_uri": "https://localhost:8080/"
        }
      },
      "execution_count": 41,
      "outputs": [
        {
          "output_type": "execute_result",
          "data": {
            "text/plain": [
              "2600"
            ]
          },
          "metadata": {},
          "execution_count": 41
        }
      ]
    },
    {
      "cell_type": "code",
      "source": [
        "len(\"Hello\")"
      ],
      "metadata": {
        "id": "UQ-23BvyrP4u",
        "outputId": "e483b614-e512-49ed-d9a0-a5a780fedcef",
        "colab": {
          "base_uri": "https://localhost:8080/"
        }
      },
      "execution_count": 42,
      "outputs": [
        {
          "output_type": "execute_result",
          "data": {
            "text/plain": [
              "5"
            ]
          },
          "metadata": {},
          "execution_count": 42
        }
      ]
    },
    {
      "cell_type": "markdown",
      "source": [
        "Each character in string has a position similar to how lists behaved in Snap"
      ],
      "metadata": {
        "collapsed": false,
        "id": "ztd32hfdjg6S"
      }
    },
    {
      "cell_type": "code",
      "execution_count": 45,
      "outputs": [
        {
          "output_type": "stream",
          "name": "stdout",
          "text": [
            "T\n",
            "h\n",
            "i\n",
            "s\n",
            " \n",
            "i\n",
            "s\n",
            " \n",
            "a\n",
            " \n",
            "s\n",
            "i\n",
            "m\n",
            "p\n",
            "l\n",
            "e\n",
            " \n",
            "s\n",
            "e\n",
            "n\n",
            "t\n",
            "e\n",
            "n\n",
            "c\n",
            "e\n",
            ".\n"
          ]
        }
      ],
      "source": [
        "for char in s:\n",
        "  print(char)"
      ],
      "metadata": {
        "pycharm": {
          "name": "#%%\n"
        },
        "id": "KiUFlhpLjg6S",
        "outputId": "c38a59dd-1fb7-4592-d406-7222b37c01ca",
        "colab": {
          "base_uri": "https://localhost:8080/"
        }
      }
    },
    {
      "cell_type": "code",
      "source": [
        "s[0]"
      ],
      "metadata": {
        "id": "WFj5XgP2sciF",
        "outputId": "4d3868e0-4c5f-4f25-badc-e71e572b01ac",
        "colab": {
          "base_uri": "https://localhost:8080/",
          "height": 35
        }
      },
      "execution_count": 46,
      "outputs": [
        {
          "output_type": "execute_result",
          "data": {
            "application/vnd.google.colaboratory.intrinsic+json": {
              "type": "string"
            },
            "text/plain": [
              "'T'"
            ]
          },
          "metadata": {},
          "execution_count": 46
        }
      ]
    },
    {
      "cell_type": "code",
      "source": [
        "s[3]"
      ],
      "metadata": {
        "id": "Gf3WDPmMsgQH",
        "outputId": "a298c2e3-da7a-434f-da48-2c8e9156778d",
        "colab": {
          "base_uri": "https://localhost:8080/",
          "height": 35
        }
      },
      "execution_count": 47,
      "outputs": [
        {
          "output_type": "execute_result",
          "data": {
            "application/vnd.google.colaboratory.intrinsic+json": {
              "type": "string"
            },
            "text/plain": [
              "'s'"
            ]
          },
          "metadata": {},
          "execution_count": 47
        }
      ]
    },
    {
      "cell_type": "markdown",
      "source": [
        "We can get the last character with `[-1]`"
      ],
      "metadata": {
        "collapsed": false,
        "id": "t0eCrdi7jg6S"
      }
    },
    {
      "cell_type": "code",
      "execution_count": 48,
      "outputs": [
        {
          "output_type": "execute_result",
          "data": {
            "application/vnd.google.colaboratory.intrinsic+json": {
              "type": "string"
            },
            "text/plain": [
              "'.'"
            ]
          },
          "metadata": {},
          "execution_count": 48
        }
      ],
      "source": [
        "s[-1]"
      ],
      "metadata": {
        "pycharm": {
          "name": "#%%\n"
        },
        "id": "DaRW_sOCjg6S",
        "outputId": "994768f3-d686-4741-c1b4-ce9f816b089d",
        "colab": {
          "base_uri": "https://localhost:8080/",
          "height": 35
        }
      }
    },
    {
      "cell_type": "markdown",
      "source": [
        "We can also take *slices* from strings, remember in Python we start counting from 0."
      ],
      "metadata": {
        "collapsed": false,
        "id": "BDtL8hKnjg6S"
      }
    },
    {
      "cell_type": "code",
      "execution_count": null,
      "outputs": [],
      "source": [
        "s[0:4]"
      ],
      "metadata": {
        "pycharm": {
          "name": "#%%\n"
        },
        "id": "WMr2Wbucjg6T"
      }
    },
    {
      "cell_type": "code",
      "execution_count": 49,
      "outputs": [
        {
          "output_type": "execute_result",
          "data": {
            "application/vnd.google.colaboratory.intrinsic+json": {
              "type": "string"
            },
            "text/plain": [
              "'This'"
            ]
          },
          "metadata": {},
          "execution_count": 49
        }
      ],
      "source": [
        "# In python the lower bound (number) is inclusive\n",
        "# the upper bound (numebr / limit) is ecvlusibe\n",
        "\n",
        "s[0:4]"
      ],
      "metadata": {
        "pycharm": {
          "name": "#%%\n"
        },
        "id": "wC5AjrU5jg6T",
        "outputId": "9c375ca9-0b3e-48b9-b542-af206f240b09",
        "colab": {
          "base_uri": "https://localhost:8080/",
          "height": 35
        }
      }
    },
    {
      "cell_type": "code",
      "source": [
        "s"
      ],
      "metadata": {
        "id": "671Gl0iltWet"
      },
      "execution_count": null,
      "outputs": []
    },
    {
      "cell_type": "code",
      "source": [
        "s[-1]"
      ],
      "metadata": {
        "id": "F_yme_XWtlPg"
      },
      "execution_count": null,
      "outputs": []
    },
    {
      "cell_type": "code",
      "source": [
        "s[len(s) -1]"
      ],
      "metadata": {
        "id": "KhtNFEqrtmxx"
      },
      "execution_count": null,
      "outputs": []
    },
    {
      "cell_type": "markdown",
      "source": [
        "There is also a number of tricks for formatting strings"
      ],
      "metadata": {
        "collapsed": false,
        "id": "F5cUhoVQjg6T"
      }
    },
    {
      "cell_type": "code",
      "execution_count": 52,
      "outputs": [],
      "source": [
        "example = \"   too far baz\""
      ],
      "metadata": {
        "pycharm": {
          "name": "#%%\n"
        },
        "id": "F1UhMyjijg6T"
      }
    },
    {
      "cell_type": "code",
      "execution_count": 53,
      "outputs": [
        {
          "output_type": "execute_result",
          "data": {
            "application/vnd.google.colaboratory.intrinsic+json": {
              "type": "string"
            },
            "text/plain": [
              "'   too far baz'"
            ]
          },
          "metadata": {},
          "execution_count": 53
        }
      ],
      "source": [
        "example.rstrip()"
      ],
      "metadata": {
        "pycharm": {
          "name": "#%%\n"
        },
        "id": "9RdRTdzUjg6T",
        "outputId": "c9e2d038-5ccd-4305-bdfd-98aed484c0e2",
        "colab": {
          "base_uri": "https://localhost:8080/",
          "height": 35
        }
      }
    },
    {
      "cell_type": "code",
      "execution_count": 54,
      "outputs": [
        {
          "output_type": "execute_result",
          "data": {
            "application/vnd.google.colaboratory.intrinsic+json": {
              "type": "string"
            },
            "text/plain": [
              "'too far baz'"
            ]
          },
          "metadata": {},
          "execution_count": 54
        }
      ],
      "source": [
        "example.lstrip()"
      ],
      "metadata": {
        "pycharm": {
          "name": "#%%\n"
        },
        "id": "_bSUk4XZjg6T",
        "outputId": "69f7a7e2-0154-4afe-946d-0ebb48ed8430",
        "colab": {
          "base_uri": "https://localhost:8080/",
          "height": 35
        }
      }
    },
    {
      "cell_type": "markdown",
      "source": [
        "If we have a list (we will explore these more later) of strings we can join them together"
      ],
      "metadata": {
        "collapsed": false,
        "id": "Y0VhYll2jg6T"
      }
    },
    {
      "cell_type": "code",
      "execution_count": 56,
      "outputs": [],
      "source": [
        "string_list = [\"foo\", \"bar\", \"baz\", \"spam\", \"fleshwound\"]"
      ],
      "metadata": {
        "pycharm": {
          "name": "#%%\n"
        },
        "id": "NDZNtNfdjg6U"
      }
    },
    {
      "cell_type": "code",
      "execution_count": 57,
      "outputs": [
        {
          "output_type": "execute_result",
          "data": {
            "application/vnd.google.colaboratory.intrinsic+json": {
              "type": "string"
            },
            "text/plain": [
              "'foo, bar, baz, spam, fleshwound'"
            ]
          },
          "metadata": {},
          "execution_count": 57
        }
      ],
      "source": [
        "\", \".join(string_list)"
      ],
      "metadata": {
        "pycharm": {
          "name": "#%%\n"
        },
        "id": "w_syxwRwjg6U",
        "outputId": "602187f0-cd6d-4ca1-9f0a-bbb985db6036",
        "colab": {
          "base_uri": "https://localhost:8080/",
          "height": 35
        }
      }
    },
    {
      "cell_type": "markdown",
      "source": [
        "As you can see there is a lot we can do with strings and rightly so as we tend to interact with text data quite frequently while programming."
      ],
      "metadata": {
        "collapsed": false,
        "pycharm": {
          "name": "#%% md\n"
        },
        "id": "KizTdTjwjg6U"
      }
    }
  ],
  "metadata": {
    "kernelspec": {
      "name": "python3",
      "language": "python",
      "display_name": "Python 3 (ipykernel)"
    },
    "language_info": {
      "codemirror_mode": {
        "name": "ipython",
        "version": 2
      },
      "file_extension": ".py",
      "mimetype": "text/x-python",
      "name": "python",
      "nbconvert_exporter": "python",
      "pygments_lexer": "ipython2",
      "version": "2.7.6"
    },
    "colab": {
      "name": "Notes-1-04-01_String-manipulation-lecture.ipynb",
      "provenance": [],
      "include_colab_link": true
    }
  },
  "nbformat": 4,
  "nbformat_minor": 0
}